{
 "cells": [
  {
   "cell_type": "markdown",
   "metadata": {},
   "source": [
    "# Important Libraries"
   ]
  },
  {
   "cell_type": "code",
   "execution_count": 14,
   "metadata": {
    "executionInfo": {
     "elapsed": 2613,
     "status": "ok",
     "timestamp": 1719383857498,
     "user": {
      "displayName": "Jasvinder",
      "userId": "02665855792849817295"
     },
     "user_tz": -330
    },
    "id": "TVoJYiAGL1gT"
   },
   "outputs": [],
   "source": [
    "import pandas as pd\n",
    "import numpy as np\n",
    "import matplotlib.pyplot as plt\n",
    "import seaborn as sns\n",
    "\n",
    "import warnings\n",
    "warnings.filterwarnings('ignore')"
   ]
  },
  {
   "cell_type": "code",
   "execution_count": 2,
   "metadata": {
    "executionInfo": {
     "elapsed": 487,
     "status": "ok",
     "timestamp": 1719383888937,
     "user": {
      "displayName": "Jasvinder",
      "userId": "02665855792849817295"
     },
     "user_tz": -330
    },
    "id": "j-8n3l31MXz1"
   },
   "outputs": [],
   "source": [
    "df = pd.read_csv(\"D:\\\\downloads\\\\amazon.csv\")  # Imported the data as df"
   ]
  },
  {
   "cell_type": "markdown",
   "metadata": {},
   "source": [
    "# Data Overview"
   ]
  },
  {
   "cell_type": "code",
   "execution_count": 3,
   "metadata": {},
   "outputs": [
    {
     "data": {
      "text/html": [
       "<div>\n",
       "<style scoped>\n",
       "    .dataframe tbody tr th:only-of-type {\n",
       "        vertical-align: middle;\n",
       "    }\n",
       "\n",
       "    .dataframe tbody tr th {\n",
       "        vertical-align: top;\n",
       "    }\n",
       "\n",
       "    .dataframe thead th {\n",
       "        text-align: right;\n",
       "    }\n",
       "</style>\n",
       "<table border=\"1\" class=\"dataframe\">\n",
       "  <thead>\n",
       "    <tr style=\"text-align: right;\">\n",
       "      <th></th>\n",
       "      <th>product_id</th>\n",
       "      <th>product_name</th>\n",
       "      <th>category</th>\n",
       "      <th>discounted_price</th>\n",
       "      <th>actual_price</th>\n",
       "      <th>discount_percentage</th>\n",
       "      <th>rating</th>\n",
       "      <th>rating_count</th>\n",
       "      <th>about_product</th>\n",
       "      <th>user_id</th>\n",
       "      <th>user_name</th>\n",
       "      <th>review_id</th>\n",
       "      <th>review_title</th>\n",
       "      <th>review_content</th>\n",
       "      <th>img_link</th>\n",
       "      <th>product_link</th>\n",
       "    </tr>\n",
       "  </thead>\n",
       "  <tbody>\n",
       "    <tr>\n",
       "      <th>0</th>\n",
       "      <td>B07JW9H4J1</td>\n",
       "      <td>Wayona Nylon Braided USB to Lightning Fast Cha...</td>\n",
       "      <td>Computers&amp;Accessories|Accessories&amp;Peripherals|...</td>\n",
       "      <td>₹399</td>\n",
       "      <td>₹1,099</td>\n",
       "      <td>64%</td>\n",
       "      <td>4.2</td>\n",
       "      <td>24,269</td>\n",
       "      <td>High Compatibility : Compatible With iPhone 12...</td>\n",
       "      <td>AG3D6O4STAQKAY2UVGEUV46KN35Q,AHMY5CWJMMK5BJRBB...</td>\n",
       "      <td>Manav,Adarsh gupta,Sundeep,S.Sayeed Ahmed,jasp...</td>\n",
       "      <td>R3HXWT0LRP0NMF,R2AJM3LFTLZHFO,R6AQJGUP6P86,R1K...</td>\n",
       "      <td>Satisfied,Charging is really fast,Value for mo...</td>\n",
       "      <td>Looks durable Charging is fine tooNo complains...</td>\n",
       "      <td>https://m.media-amazon.com/images/W/WEBP_40237...</td>\n",
       "      <td>https://www.amazon.in/Wayona-Braided-WN3LG1-Sy...</td>\n",
       "    </tr>\n",
       "    <tr>\n",
       "      <th>1</th>\n",
       "      <td>B098NS6PVG</td>\n",
       "      <td>Ambrane Unbreakable 60W / 3A Fast Charging 1.5...</td>\n",
       "      <td>Computers&amp;Accessories|Accessories&amp;Peripherals|...</td>\n",
       "      <td>₹199</td>\n",
       "      <td>₹349</td>\n",
       "      <td>43%</td>\n",
       "      <td>4.0</td>\n",
       "      <td>43,994</td>\n",
       "      <td>Compatible with all Type C enabled devices, be...</td>\n",
       "      <td>AECPFYFQVRUWC3KGNLJIOREFP5LQ,AGYYVPDD7YG7FYNBX...</td>\n",
       "      <td>ArdKn,Nirbhay kumar,Sagar Viswanathan,Asp,Plac...</td>\n",
       "      <td>RGIQEG07R9HS2,R1SMWZQ86XIN8U,R2J3Y1WL29GWDE,RY...</td>\n",
       "      <td>A Good Braided Cable for Your Type C Device,Go...</td>\n",
       "      <td>I ordered this cable to connect my phone to An...</td>\n",
       "      <td>https://m.media-amazon.com/images/W/WEBP_40237...</td>\n",
       "      <td>https://www.amazon.in/Ambrane-Unbreakable-Char...</td>\n",
       "    </tr>\n",
       "  </tbody>\n",
       "</table>\n",
       "</div>"
      ],
      "text/plain": [
       "   product_id                                       product_name  \\\n",
       "0  B07JW9H4J1  Wayona Nylon Braided USB to Lightning Fast Cha...   \n",
       "1  B098NS6PVG  Ambrane Unbreakable 60W / 3A Fast Charging 1.5...   \n",
       "\n",
       "                                            category discounted_price  \\\n",
       "0  Computers&Accessories|Accessories&Peripherals|...             ₹399   \n",
       "1  Computers&Accessories|Accessories&Peripherals|...             ₹199   \n",
       "\n",
       "  actual_price discount_percentage rating rating_count  \\\n",
       "0       ₹1,099                 64%    4.2       24,269   \n",
       "1         ₹349                 43%    4.0       43,994   \n",
       "\n",
       "                                       about_product  \\\n",
       "0  High Compatibility : Compatible With iPhone 12...   \n",
       "1  Compatible with all Type C enabled devices, be...   \n",
       "\n",
       "                                             user_id  \\\n",
       "0  AG3D6O4STAQKAY2UVGEUV46KN35Q,AHMY5CWJMMK5BJRBB...   \n",
       "1  AECPFYFQVRUWC3KGNLJIOREFP5LQ,AGYYVPDD7YG7FYNBX...   \n",
       "\n",
       "                                           user_name  \\\n",
       "0  Manav,Adarsh gupta,Sundeep,S.Sayeed Ahmed,jasp...   \n",
       "1  ArdKn,Nirbhay kumar,Sagar Viswanathan,Asp,Plac...   \n",
       "\n",
       "                                           review_id  \\\n",
       "0  R3HXWT0LRP0NMF,R2AJM3LFTLZHFO,R6AQJGUP6P86,R1K...   \n",
       "1  RGIQEG07R9HS2,R1SMWZQ86XIN8U,R2J3Y1WL29GWDE,RY...   \n",
       "\n",
       "                                        review_title  \\\n",
       "0  Satisfied,Charging is really fast,Value for mo...   \n",
       "1  A Good Braided Cable for Your Type C Device,Go...   \n",
       "\n",
       "                                      review_content  \\\n",
       "0  Looks durable Charging is fine tooNo complains...   \n",
       "1  I ordered this cable to connect my phone to An...   \n",
       "\n",
       "                                            img_link  \\\n",
       "0  https://m.media-amazon.com/images/W/WEBP_40237...   \n",
       "1  https://m.media-amazon.com/images/W/WEBP_40237...   \n",
       "\n",
       "                                        product_link  \n",
       "0  https://www.amazon.in/Wayona-Braided-WN3LG1-Sy...  \n",
       "1  https://www.amazon.in/Ambrane-Unbreakable-Char...  "
      ]
     },
     "execution_count": 3,
     "metadata": {},
     "output_type": "execute_result"
    }
   ],
   "source": [
    "df.head(2)"
   ]
  },
  {
   "cell_type": "markdown",
   "metadata": {},
   "source": [
    "This is an Amazon Sales Dataset, it contains information on 1k+ Amazon products, including their ratings, reviews, and other details"
   ]
  },
  {
   "cell_type": "markdown",
   "metadata": {},
   "source": [
    "# Data Cleaning"
   ]
  },
  {
   "cell_type": "markdown",
   "metadata": {},
   "source": [
    "1. Columns such as rating, rating_count, discounted_price and actual_price are objects which have to be converted to numeric to effectivly analyse the data.\n",
    "2. Null value treatment\n",
    "3. Image_link and Product_link column has to be removed as they do not surve any purpose to analyses.\n",
    "4. The category column is more like a keywords column. So, it will be devided into two columns, which are category and keyword to get better insight out of it."
   ]
  },
  {
   "cell_type": "code",
   "execution_count": 4,
   "metadata": {},
   "outputs": [
    {
     "data": {
      "text/plain": [
       "product_id             object\n",
       "product_name           object\n",
       "category               object\n",
       "discounted_price       object\n",
       "actual_price           object\n",
       "discount_percentage    object\n",
       "rating                 object\n",
       "rating_count           object\n",
       "about_product          object\n",
       "user_id                object\n",
       "user_name              object\n",
       "review_id              object\n",
       "review_title           object\n",
       "review_content         object\n",
       "img_link               object\n",
       "product_link           object\n",
       "dtype: object"
      ]
     },
     "execution_count": 4,
     "metadata": {},
     "output_type": "execute_result"
    }
   ],
   "source": [
    "df.dtypes"
   ]
  },
  {
   "cell_type": "code",
   "execution_count": 5,
   "metadata": {
    "executionInfo": {
     "elapsed": 510,
     "status": "ok",
     "timestamp": 1719383892673,
     "user": {
      "displayName": "Jasvinder",
      "userId": "02665855792849817295"
     },
     "user_tz": -330
    },
    "id": "5-yKSQfzMYZy"
   },
   "outputs": [],
   "source": [
    "# Made necessary changes to the columns which were causing issue \n",
    "df['rating'].replace(to_replace= {'|':0}, inplace = True)\n",
    "df['rating_count'] = df['rating_count'].str.replace('[,]','', regex = True)\n",
    "df['discounted_price'] = df['discounted_price'].str.replace('[₹,]',\"\", regex = True)\n",
    "df['discount_percentage'] = df['discount_percentage'].str.replace('[%]',\"\", regex = True)\n",
    "df['actual_price'] = df['actual_price'].str.replace('[₹,]',\"\", regex = True).astype(float)\n",
    "\n",
    "# Converted the columns to numeric \n",
    "df['rating'] = pd.to_numeric(df['rating'], errors = 'coerce')\n",
    "df['rating_count'] = pd.to_numeric(df['rating_count'], errors = 'coerce')\n",
    "df['discounted_price'] = pd.to_numeric(df['discounted_price'], errors = 'coerce')\n",
    "df['discount_percentage'] = pd.to_numeric(df['discount_percentage'], errors = 'coerce')\n",
    "df['actual_price'] = df['actual_price'].astype(float)"
   ]
  },
  {
   "cell_type": "code",
   "execution_count": 6,
   "metadata": {},
   "outputs": [
    {
     "data": {
      "text/plain": [
       "product_id             0\n",
       "product_name           0\n",
       "category               0\n",
       "discounted_price       0\n",
       "actual_price           0\n",
       "discount_percentage    0\n",
       "rating                 0\n",
       "rating_count           2\n",
       "about_product          0\n",
       "user_id                0\n",
       "user_name              0\n",
       "review_id              0\n",
       "review_title           0\n",
       "review_content         0\n",
       "img_link               0\n",
       "product_link           0\n",
       "dtype: int64"
      ]
     },
     "execution_count": 6,
     "metadata": {},
     "output_type": "execute_result"
    }
   ],
   "source": [
    "# Checking for null values\n",
    "df.isna().sum()"
   ]
  },
  {
   "cell_type": "code",
   "execution_count": 7,
   "metadata": {},
   "outputs": [],
   "source": [
    "df.dropna(inplace = True) # since there are only two null values we can drop those"
   ]
  },
  {
   "cell_type": "code",
   "execution_count": 8,
   "metadata": {},
   "outputs": [],
   "source": [
    "df['keywords'] = df['category']"
   ]
  },
  {
   "cell_type": "code",
   "execution_count": 9,
   "metadata": {},
   "outputs": [],
   "source": [
    "# This function helps in extracting the core categories of the product\n",
    "def extract_category(row):\n",
    "    if 'Home&Kitchen' in row:\n",
    "        return 'Home&Kitchen'\n",
    "    elif 'Computers&Accessories' in row:\n",
    "        return 'Computers&Accessories'\n",
    "    elif 'Electronics' in row:\n",
    "        return 'Electronics'\n",
    "    elif 'OfficeProducts' in row:\n",
    "        return 'OfficeProducts'\n",
    "    elif 'HomeImprovement' in row:\n",
    "        return 'HomeImprovement'\n",
    "    elif 'Car&Motorbike' in row:\n",
    "        return 'Car&Motorbike'\n",
    "    elif 'Health&PersonalCare' in row:\n",
    "        return 'Health&PersonalCare'\n",
    "    elif 'Toys&Games' in row:\n",
    "        return 'Toys&Games'\n",
    "    else:\n",
    "        return 'MusicalInstruments'\n",
    "\n",
    "# Overriting the category column with the help of defined function \n",
    "df['category'] = df['category'].apply(extract_category)"
   ]
  },
  {
   "cell_type": "code",
   "execution_count": 10,
   "metadata": {},
   "outputs": [],
   "source": [
    "df.drop({'product_link','img_link'},axis = 1, inplace = True) # Dropped these as they are of no use in analysis"
   ]
  },
  {
   "cell_type": "code",
   "execution_count": 11,
   "metadata": {},
   "outputs": [
    {
     "data": {
      "text/html": [
       "<div>\n",
       "<style scoped>\n",
       "    .dataframe tbody tr th:only-of-type {\n",
       "        vertical-align: middle;\n",
       "    }\n",
       "\n",
       "    .dataframe tbody tr th {\n",
       "        vertical-align: top;\n",
       "    }\n",
       "\n",
       "    .dataframe thead th {\n",
       "        text-align: right;\n",
       "    }\n",
       "</style>\n",
       "<table border=\"1\" class=\"dataframe\">\n",
       "  <thead>\n",
       "    <tr style=\"text-align: right;\">\n",
       "      <th></th>\n",
       "      <th>product_id</th>\n",
       "      <th>product_name</th>\n",
       "      <th>category</th>\n",
       "      <th>discounted_price</th>\n",
       "      <th>actual_price</th>\n",
       "      <th>discount_percentage</th>\n",
       "      <th>rating</th>\n",
       "      <th>rating_count</th>\n",
       "      <th>about_product</th>\n",
       "      <th>user_id</th>\n",
       "      <th>user_name</th>\n",
       "      <th>review_id</th>\n",
       "      <th>review_title</th>\n",
       "      <th>review_content</th>\n",
       "      <th>keywords</th>\n",
       "    </tr>\n",
       "  </thead>\n",
       "  <tbody>\n",
       "    <tr>\n",
       "      <th>0</th>\n",
       "      <td>B07JW9H4J1</td>\n",
       "      <td>Wayona Nylon Braided USB to Lightning Fast Cha...</td>\n",
       "      <td>Computers&amp;Accessories</td>\n",
       "      <td>399.0</td>\n",
       "      <td>1099.0</td>\n",
       "      <td>64</td>\n",
       "      <td>4.2</td>\n",
       "      <td>24269.0</td>\n",
       "      <td>High Compatibility : Compatible With iPhone 12...</td>\n",
       "      <td>AG3D6O4STAQKAY2UVGEUV46KN35Q,AHMY5CWJMMK5BJRBB...</td>\n",
       "      <td>Manav,Adarsh gupta,Sundeep,S.Sayeed Ahmed,jasp...</td>\n",
       "      <td>R3HXWT0LRP0NMF,R2AJM3LFTLZHFO,R6AQJGUP6P86,R1K...</td>\n",
       "      <td>Satisfied,Charging is really fast,Value for mo...</td>\n",
       "      <td>Looks durable Charging is fine tooNo complains...</td>\n",
       "      <td>Computers&amp;Accessories|Accessories&amp;Peripherals|...</td>\n",
       "    </tr>\n",
       "    <tr>\n",
       "      <th>1</th>\n",
       "      <td>B098NS6PVG</td>\n",
       "      <td>Ambrane Unbreakable 60W / 3A Fast Charging 1.5...</td>\n",
       "      <td>Computers&amp;Accessories</td>\n",
       "      <td>199.0</td>\n",
       "      <td>349.0</td>\n",
       "      <td>43</td>\n",
       "      <td>4.0</td>\n",
       "      <td>43994.0</td>\n",
       "      <td>Compatible with all Type C enabled devices, be...</td>\n",
       "      <td>AECPFYFQVRUWC3KGNLJIOREFP5LQ,AGYYVPDD7YG7FYNBX...</td>\n",
       "      <td>ArdKn,Nirbhay kumar,Sagar Viswanathan,Asp,Plac...</td>\n",
       "      <td>RGIQEG07R9HS2,R1SMWZQ86XIN8U,R2J3Y1WL29GWDE,RY...</td>\n",
       "      <td>A Good Braided Cable for Your Type C Device,Go...</td>\n",
       "      <td>I ordered this cable to connect my phone to An...</td>\n",
       "      <td>Computers&amp;Accessories|Accessories&amp;Peripherals|...</td>\n",
       "    </tr>\n",
       "  </tbody>\n",
       "</table>\n",
       "</div>"
      ],
      "text/plain": [
       "   product_id                                       product_name  \\\n",
       "0  B07JW9H4J1  Wayona Nylon Braided USB to Lightning Fast Cha...   \n",
       "1  B098NS6PVG  Ambrane Unbreakable 60W / 3A Fast Charging 1.5...   \n",
       "\n",
       "                category  discounted_price  actual_price  discount_percentage  \\\n",
       "0  Computers&Accessories             399.0        1099.0                   64   \n",
       "1  Computers&Accessories             199.0         349.0                   43   \n",
       "\n",
       "   rating  rating_count                                      about_product  \\\n",
       "0     4.2       24269.0  High Compatibility : Compatible With iPhone 12...   \n",
       "1     4.0       43994.0  Compatible with all Type C enabled devices, be...   \n",
       "\n",
       "                                             user_id  \\\n",
       "0  AG3D6O4STAQKAY2UVGEUV46KN35Q,AHMY5CWJMMK5BJRBB...   \n",
       "1  AECPFYFQVRUWC3KGNLJIOREFP5LQ,AGYYVPDD7YG7FYNBX...   \n",
       "\n",
       "                                           user_name  \\\n",
       "0  Manav,Adarsh gupta,Sundeep,S.Sayeed Ahmed,jasp...   \n",
       "1  ArdKn,Nirbhay kumar,Sagar Viswanathan,Asp,Plac...   \n",
       "\n",
       "                                           review_id  \\\n",
       "0  R3HXWT0LRP0NMF,R2AJM3LFTLZHFO,R6AQJGUP6P86,R1K...   \n",
       "1  RGIQEG07R9HS2,R1SMWZQ86XIN8U,R2J3Y1WL29GWDE,RY...   \n",
       "\n",
       "                                        review_title  \\\n",
       "0  Satisfied,Charging is really fast,Value for mo...   \n",
       "1  A Good Braided Cable for Your Type C Device,Go...   \n",
       "\n",
       "                                      review_content  \\\n",
       "0  Looks durable Charging is fine tooNo complains...   \n",
       "1  I ordered this cable to connect my phone to An...   \n",
       "\n",
       "                                            keywords  \n",
       "0  Computers&Accessories|Accessories&Peripherals|...  \n",
       "1  Computers&Accessories|Accessories&Peripherals|...  "
      ]
     },
     "execution_count": 11,
     "metadata": {},
     "output_type": "execute_result"
    }
   ],
   "source": [
    "df.head(2)"
   ]
  },
  {
   "cell_type": "markdown",
   "metadata": {},
   "source": [
    "# Exploratory Data Analysis"
   ]
  },
  {
   "cell_type": "markdown",
   "metadata": {},
   "source": [
    "__Average rating for each product category__"
   ]
  },
  {
   "cell_type": "code",
   "execution_count": 12,
   "metadata": {
    "colab": {
     "base_uri": "https://localhost:8080/",
     "height": 455
    },
    "executionInfo": {
     "elapsed": 986,
     "status": "ok",
     "timestamp": 1711517134863,
     "user": {
      "displayName": "Jasvinder",
      "userId": "02665855792849817295"
     },
     "user_tz": -330
    },
    "id": "RheVFPkreu_O",
    "outputId": "8d47e406-4f16-493c-9e20-131b2c31f2b5"
   },
   "outputs": [
    {
     "data": {
      "text/html": [
       "<div>\n",
       "<style scoped>\n",
       "    .dataframe tbody tr th:only-of-type {\n",
       "        vertical-align: middle;\n",
       "    }\n",
       "\n",
       "    .dataframe tbody tr th {\n",
       "        vertical-align: top;\n",
       "    }\n",
       "\n",
       "    .dataframe thead th {\n",
       "        text-align: right;\n",
       "    }\n",
       "</style>\n",
       "<table border=\"1\" class=\"dataframe\">\n",
       "  <thead>\n",
       "    <tr style=\"text-align: right;\">\n",
       "      <th></th>\n",
       "      <th>rating</th>\n",
       "    </tr>\n",
       "    <tr>\n",
       "      <th>category</th>\n",
       "      <th></th>\n",
       "    </tr>\n",
       "  </thead>\n",
       "  <tbody>\n",
       "    <tr>\n",
       "      <th>Toys&amp;Games</th>\n",
       "      <td>4.300000</td>\n",
       "    </tr>\n",
       "    <tr>\n",
       "      <th>OfficeProducts</th>\n",
       "      <td>4.288889</td>\n",
       "    </tr>\n",
       "    <tr>\n",
       "      <th>HomeImprovement</th>\n",
       "      <td>4.250000</td>\n",
       "    </tr>\n",
       "    <tr>\n",
       "      <th>Computers&amp;Accessories</th>\n",
       "      <td>4.155654</td>\n",
       "    </tr>\n",
       "    <tr>\n",
       "      <th>Electronics</th>\n",
       "      <td>4.084528</td>\n",
       "    </tr>\n",
       "    <tr>\n",
       "      <th>Home&amp;Kitchen</th>\n",
       "      <td>4.031696</td>\n",
       "    </tr>\n",
       "    <tr>\n",
       "      <th>Health&amp;PersonalCare</th>\n",
       "      <td>4.000000</td>\n",
       "    </tr>\n",
       "    <tr>\n",
       "      <th>MusicalInstruments</th>\n",
       "      <td>3.900000</td>\n",
       "    </tr>\n",
       "    <tr>\n",
       "      <th>Car&amp;Motorbike</th>\n",
       "      <td>3.800000</td>\n",
       "    </tr>\n",
       "  </tbody>\n",
       "</table>\n",
       "</div>"
      ],
      "text/plain": [
       "                         rating\n",
       "category                       \n",
       "Toys&Games             4.300000\n",
       "OfficeProducts         4.288889\n",
       "HomeImprovement        4.250000\n",
       "Computers&Accessories  4.155654\n",
       "Electronics            4.084528\n",
       "Home&Kitchen           4.031696\n",
       "Health&PersonalCare    4.000000\n",
       "MusicalInstruments     3.900000\n",
       "Car&Motorbike          3.800000"
      ]
     },
     "execution_count": 12,
     "metadata": {},
     "output_type": "execute_result"
    }
   ],
   "source": [
    "df.groupby(['category'])['rating'].mean().to_frame().sort_values(by = 'rating', ascending = False)"
   ]
  },
  {
   "cell_type": "markdown",
   "metadata": {},
   "source": [
    "Insights:\n",
    "1. Toys&Games and OfficeProducts have the highest average ratings at 4.30 and 4.29, respectively. This suggests that customers are generally very satisfied with products in these categories.\n",
    "2. Car&Motorbike and MusicalInstruments have the lowest average ratings at 3.80 and 3.90, respectively. This suggests that customers are less satisfied with products in these categories. It can be reduced through quality improvements, better product descriptions, enhanced customer service, or addressing specific customer complaints to boost satisfaction."
   ]
  },
  {
   "cell_type": "markdown",
   "metadata": {},
   "source": [
    "__Top rating count products by category__"
   ]
  },
  {
   "cell_type": "code",
   "execution_count": 13,
   "metadata": {
    "colab": {
     "base_uri": "https://localhost:8080/",
     "height": 820
    },
    "executionInfo": {
     "elapsed": 15,
     "status": "ok",
     "timestamp": 1711517135571,
     "user": {
      "displayName": "Jasvinder",
      "userId": "02665855792849817295"
     },
     "user_tz": -330
    },
    "id": "dMQUM7_QevC9",
    "outputId": "b18eaf04-6257-4e6f-e254-b17a5c5cf1c7",
    "scrolled": true
   },
   "outputs": [
    {
     "data": {
      "text/html": [
       "<div>\n",
       "<style scoped>\n",
       "    .dataframe tbody tr th:only-of-type {\n",
       "        vertical-align: middle;\n",
       "    }\n",
       "\n",
       "    .dataframe tbody tr th {\n",
       "        vertical-align: top;\n",
       "    }\n",
       "\n",
       "    .dataframe thead th {\n",
       "        text-align: right;\n",
       "    }\n",
       "</style>\n",
       "<table border=\"1\" class=\"dataframe\">\n",
       "  <thead>\n",
       "    <tr style=\"text-align: right;\">\n",
       "      <th></th>\n",
       "      <th></th>\n",
       "      <th>rating_count</th>\n",
       "    </tr>\n",
       "    <tr>\n",
       "      <th>category</th>\n",
       "      <th>product_name</th>\n",
       "      <th></th>\n",
       "    </tr>\n",
       "  </thead>\n",
       "  <tbody>\n",
       "    <tr>\n",
       "      <th rowspan=\"5\" valign=\"top\">Electronics</th>\n",
       "      <th>AmazonBasics Flexible Premium HDMI Cable (Black, 4K@60Hz, 18Gbps), 3-Foot</th>\n",
       "      <td>853945.0</td>\n",
       "    </tr>\n",
       "    <tr>\n",
       "      <th>Amazon Basics High-Speed HDMI Cable, 6 Feet - Supports Ethernet, 3D, 4K video,Black</th>\n",
       "      <td>426973.0</td>\n",
       "    </tr>\n",
       "    <tr>\n",
       "      <th>Amazon Basics High-Speed HDMI Cable, 6 Feet (2-Pack),Black</th>\n",
       "      <td>426973.0</td>\n",
       "    </tr>\n",
       "    <tr>\n",
       "      <th>JBL C100SI Wired In Ear Headphones with Mic, JBL Pure Bass Sound, One Button Multi-function Remote, Angled Buds for Comfort fit (Black)</th>\n",
       "      <td>385177.0</td>\n",
       "    </tr>\n",
       "    <tr>\n",
       "      <th>boAt Bassheads 100 in Ear Wired Earphones with Mic(Taffy Pink)</th>\n",
       "      <td>363713.0</td>\n",
       "    </tr>\n",
       "    <tr>\n",
       "      <th>...</th>\n",
       "      <th>...</th>\n",
       "      <td>...</td>\n",
       "    </tr>\n",
       "    <tr>\n",
       "      <th rowspan=\"5\" valign=\"top\">Home&amp;Kitchen</th>\n",
       "      <th>VAPJA® Portable Mini Juicer Cup Blender USB Rechargeable with 4 Blades for Shakes and Smoothies Fruits Vegetables Juice Maker Grinder Mixer Strong Cutting Bottle Sports Travel Outdoors Gym (BOTTLE)</th>\n",
       "      <td>4.0</td>\n",
       "    </tr>\n",
       "    <tr>\n",
       "      <th>Longway Blaze 2 Rod Quartz Room Heater (White, Gray, 800 watts)</th>\n",
       "      <td>4.0</td>\n",
       "    </tr>\n",
       "    <tr>\n",
       "      <th>Lifelong LLQH925 Dyno Quartz Heater 2 Power settings Tip Over Cut-off Switch 800 Watt Silent operation Power Indicator 2 Rod Room Heater (1 Year Warranty, Grey)</th>\n",
       "      <td>4.0</td>\n",
       "    </tr>\n",
       "    <tr>\n",
       "      <th>NGI Store 2 Pieces Pet Hair Removers for Your Laundry Catcher Lint Remover for Washing Machine Lint Remover Reusable Portable Silica Gel Clothes Washer Dryer Floating Ball</th>\n",
       "      <td>2.0</td>\n",
       "    </tr>\n",
       "    <tr>\n",
       "      <th>Khaitan ORFin Fan heater for Home and kitchen-K0 2215</th>\n",
       "      <td>2.0</td>\n",
       "    </tr>\n",
       "  </tbody>\n",
       "</table>\n",
       "<p>1335 rows × 1 columns</p>\n",
       "</div>"
      ],
      "text/plain": [
       "                                                                 rating_count\n",
       "category     product_name                                                    \n",
       "Electronics  AmazonBasics Flexible Premium HDMI Cable (Black...      853945.0\n",
       "             Amazon Basics High-Speed HDMI Cable, 6 Feet - S...      426973.0\n",
       "             Amazon Basics High-Speed HDMI Cable, 6 Feet (2-...      426973.0\n",
       "             JBL C100SI Wired In Ear Headphones with Mic, JB...      385177.0\n",
       "             boAt Bassheads 100 in Ear Wired Earphones with ...      363713.0\n",
       "...                                                                       ...\n",
       "Home&Kitchen VAPJA® Portable Mini Juicer Cup Blender USB Rec...           4.0\n",
       "             Longway Blaze 2 Rod Quartz Room Heater (White, ...           4.0\n",
       "             Lifelong LLQH925 Dyno Quartz Heater 2 Power set...           4.0\n",
       "             NGI Store 2 Pieces Pet Hair Removers for Your L...           2.0\n",
       "             Khaitan ORFin Fan heater for Home and kitchen-K...           2.0\n",
       "\n",
       "[1335 rows x 1 columns]"
      ]
     },
     "execution_count": 13,
     "metadata": {},
     "output_type": "execute_result"
    }
   ],
   "source": [
    "df.groupby(['category','product_name'])['rating_count'].sum().to_frame().sort_values(by = 'rating_count',ascending = False)"
   ]
  },
  {
   "cell_type": "markdown",
   "metadata": {},
   "source": [
    "This data will help in identifying, among different categories which products are most popular ones"
   ]
  },
  {
   "cell_type": "markdown",
   "metadata": {},
   "source": [
    "__Relationship between discount percentage and actual price__"
   ]
  },
  {
   "cell_type": "code",
   "execution_count": 14,
   "metadata": {},
   "outputs": [
    {
     "data": {
      "image/png": "[encoded data removed]",
      "text/plain": [
       "<Figure size 800x600 with 1 Axes>"
      ]
     },
     "metadata": {},
     "output_type": "display_data"
    }
   ],
   "source": [
    "plt.figure(figsize=(8, 6))\n",
    "sns.scatterplot(x='actual_price', y='discount_percentage', data=df)\n",
    "plt.title('Discount Percentage vs Actual Price')\n",
    "plt.xlabel('Actual Price')\n",
    "plt.ylabel('Discount Percentage')\n",
    "plt.show()"
   ]
  },
  {
   "cell_type": "code",
   "execution_count": 15,
   "metadata": {},
   "outputs": [
    {
     "data": {
      "text/plain": [
       "-0.11749413051731969"
      ]
     },
     "execution_count": 15,
     "metadata": {},
     "output_type": "execute_result"
    }
   ],
   "source": [
    "df['discount_percentage'].corr(df['actual_price'])"
   ]
  },
  {
   "cell_type": "markdown",
   "metadata": {},
   "source": [
    "Statistically we can not say that there is any direct relationship between price of the product and discount percentage. Although they are negatively correlated but the value is considerably low i.e -0.11 (this mean if actual price increases there is only 11% chance that discount percentage will decrease. "
   ]
  },
  {
   "cell_type": "markdown",
   "metadata": {},
   "source": [
    "__Price Distribution__"
   ]
  },
  {
   "cell_type": "code",
   "execution_count": 67,
   "metadata": {
    "scrolled": true
   },
   "outputs": [
    {
     "data": {
      "image/png": "[encoded data removed]",
      "text/plain": [
       "<Figure size 640x480 with 1 Axes>"
      ]
     },
     "metadata": {},
     "output_type": "display_data"
    },
    {
     "name": "stdout",
     "output_type": "stream",
     "text": [
      "Majority of the products are below Rs.2000\n",
      "Most of the products are priced @ Rs.999.0\n"
     ]
    }
   ],
   "source": [
    "sns.histplot(df['actual_price'])\n",
    "plt.show()\n",
    "print(f\"Majority of the products are below Rs.2000\\nMost of the products are priced @ Rs.{statistics.mode(df['actual_price'])}\")"
   ]
  },
  {
   "cell_type": "markdown",
   "metadata": {},
   "source": [
    "__How does the average discount percentage vary across categories__"
   ]
  },
  {
   "cell_type": "code",
   "execution_count": 16,
   "metadata": {
    "colab": {
     "base_uri": "https://localhost:8080/",
     "height": 874
    },
    "executionInfo": {
     "elapsed": 2844,
     "status": "ok",
     "timestamp": 1711517329730,
     "user": {
      "displayName": "Jasvinder",
      "userId": "02665855792849817295"
     },
     "user_tz": -330
    },
    "id": "34JhQRb4evJO",
    "outputId": "8e3b2622-e22e-4d60-93cf-42d01e6e0f8f"
   },
   "outputs": [
    {
     "data": {
      "image/png": "[encoded data removed]",
      "text/plain": [
       "<Figure size 700x700 with 1 Axes>"
      ]
     },
     "metadata": {},
     "output_type": "display_data"
    }
   ],
   "source": [
    "# First make a saperate dataframe containing avg discount percentage for each category\n",
    "avg_discount_data = df.groupby('category')['discount_percentage'].mean().to_frame().reset_index()\n",
    "\n",
    "# Visualization of same on a bar plot\n",
    "plt.figure(figsize = (7,7))\n",
    "ax = sns.barplot(x = avg_discount_data['category'], y = avg_discount_data['discount_percentage'])\n",
    "for bars in ax.containers:\n",
    "  ax.bar_label(bars)\n",
    "plt.xticks(rotation=90, ha='center')\n",
    "plt.show()"
   ]
  },
  {
   "cell_type": "markdown",
   "metadata": {},
   "source": [
    "Insights:\n",
    "1. HomeImprovement: This category has the highest average discount at 57.5%. This suggests that products in this category might often be heavily discounted, possibly to attract more customers or to clear out inventory.\n",
    "3. Toys&Games: With a 0% discount, this category shows no discounts being offered. This could imply either a very high demand where discounts are not needed, or a pricing strategy that does not rely on discounts to drive sales."
   ]
  },
  {
   "cell_type": "markdown",
   "metadata": {},
   "source": [
    "__Top 10 popular product names__"
   ]
  },
  {
   "cell_type": "code",
   "execution_count": 17,
   "metadata": {
    "colab": {
     "base_uri": "https://localhost:8080/",
     "height": 394
    },
    "executionInfo": {
     "elapsed": 628,
     "status": "ok",
     "timestamp": 1711516586737,
     "user": {
      "displayName": "Jasvinder",
      "userId": "02665855792849817295"
     },
     "user_tz": -330
    },
    "id": "rHBvv54qpNlR",
    "outputId": "a115bc6f-71f8-4a23-bcfa-9c2507b798ec"
   },
   "outputs": [
    {
     "data": {
      "text/html": [
       "<div>\n",
       "<style scoped>\n",
       "    .dataframe tbody tr th:only-of-type {\n",
       "        vertical-align: middle;\n",
       "    }\n",
       "\n",
       "    .dataframe tbody tr th {\n",
       "        vertical-align: top;\n",
       "    }\n",
       "\n",
       "    .dataframe thead th {\n",
       "        text-align: right;\n",
       "    }\n",
       "</style>\n",
       "<table border=\"1\" class=\"dataframe\">\n",
       "  <thead>\n",
       "    <tr style=\"text-align: right;\">\n",
       "      <th></th>\n",
       "      <th>rating_count</th>\n",
       "    </tr>\n",
       "    <tr>\n",
       "      <th>product_name</th>\n",
       "      <th></th>\n",
       "    </tr>\n",
       "  </thead>\n",
       "  <tbody>\n",
       "    <tr>\n",
       "      <th>AmazonBasics Flexible Premium HDMI Cable (Black, 4K@60Hz, 18Gbps), 3-Foot</th>\n",
       "      <td>853945.0</td>\n",
       "    </tr>\n",
       "    <tr>\n",
       "      <th>Amazon Basics High-Speed HDMI Cable, 6 Feet - Supports Ethernet, 3D, 4K video,Black</th>\n",
       "      <td>426973.0</td>\n",
       "    </tr>\n",
       "    <tr>\n",
       "      <th>Amazon Basics High-Speed HDMI Cable, 6 Feet (2-Pack),Black</th>\n",
       "      <td>426973.0</td>\n",
       "    </tr>\n",
       "    <tr>\n",
       "      <th>JBL C100SI Wired In Ear Headphones with Mic, JBL Pure Bass Sound, One Button Multi-function Remote, Angled Buds for Comfort fit (Black)</th>\n",
       "      <td>385177.0</td>\n",
       "    </tr>\n",
       "    <tr>\n",
       "      <th>boAt Bassheads 100 in Ear Wired Earphones with Mic(Taffy Pink)</th>\n",
       "      <td>363713.0</td>\n",
       "    </tr>\n",
       "    <tr>\n",
       "      <th>boAt Bassheads 100 in Ear Wired Earphones with Mic(Furious Red)</th>\n",
       "      <td>363713.0</td>\n",
       "    </tr>\n",
       "    <tr>\n",
       "      <th>boAt BassHeads 100 in-Ear Wired Headphones with Mic (Black)</th>\n",
       "      <td>363711.0</td>\n",
       "    </tr>\n",
       "    <tr>\n",
       "      <th>Redmi 9 Activ (Carbon Black, 4GB RAM, 64GB Storage) | Octa-core Helio G35 | 5000 mAh Battery</th>\n",
       "      <td>313836.0</td>\n",
       "    </tr>\n",
       "    <tr>\n",
       "      <th>Redmi 9A Sport (Coral Green, 2GB RAM, 32GB Storage) | 2GHz Octa-core Helio G25 Processor | 5000 mAh Battery</th>\n",
       "      <td>313836.0</td>\n",
       "    </tr>\n",
       "    <tr>\n",
       "      <th>Redmi 9A Sport (Carbon Black, 2GB RAM, 32GB Storage) | 2GHz Octa-core Helio G25 Processor | 5000 mAh Battery</th>\n",
       "      <td>313832.0</td>\n",
       "    </tr>\n",
       "  </tbody>\n",
       "</table>\n",
       "</div>"
      ],
      "text/plain": [
       "                                                    rating_count\n",
       "product_name                                                    \n",
       "AmazonBasics Flexible Premium HDMI Cable (Black...      853945.0\n",
       "Amazon Basics High-Speed HDMI Cable, 6 Feet - S...      426973.0\n",
       "Amazon Basics High-Speed HDMI Cable, 6 Feet (2-...      426973.0\n",
       "JBL C100SI Wired In Ear Headphones with Mic, JB...      385177.0\n",
       "boAt Bassheads 100 in Ear Wired Earphones with ...      363713.0\n",
       "boAt Bassheads 100 in Ear Wired Earphones with ...      363713.0\n",
       "boAt BassHeads 100 in-Ear Wired Headphones with...      363711.0\n",
       "Redmi 9 Activ (Carbon Black, 4GB RAM, 64GB Stor...      313836.0\n",
       "Redmi 9A Sport (Coral Green, 2GB RAM, 32GB Stor...      313836.0\n",
       "Redmi 9A Sport (Carbon Black, 2GB RAM, 32GB Sto...      313832.0"
      ]
     },
     "execution_count": 17,
     "metadata": {},
     "output_type": "execute_result"
    }
   ],
   "source": [
    "df.groupby(['product_name'])['rating_count'].sum().to_frame().sort_values(by = 'rating_count', ascending = False)[:10]"
   ]
  },
  {
   "cell_type": "markdown",
   "metadata": {},
   "source": [
    "It is clear from the above data that all the top 10 popular products are from Electronics and Computer&Accessoris category. The organisation should make sure that they always have enough stock available, so that they can meet the higher demand of these products. "
   ]
  },
  {
   "cell_type": "markdown",
   "metadata": {},
   "source": [
    "__Top 5 popular keywords__"
   ]
  },
  {
   "cell_type": "code",
   "execution_count": 18,
   "metadata": {
    "colab": {
     "base_uri": "https://localhost:8080/",
     "height": 238
    },
    "executionInfo": {
     "elapsed": 503,
     "status": "ok",
     "timestamp": 1711520006244,
     "user": {
      "displayName": "Jasvinder",
      "userId": "02665855792849817295"
     },
     "user_tz": -330
    },
    "id": "9TEx-vUIpNny",
    "outputId": "cc10ead7-cb27-4cfd-fc73-2c0eb33f40e7"
   },
   "outputs": [
    {
     "data": {
      "text/html": [
       "<div>\n",
       "<style scoped>\n",
       "    .dataframe tbody tr th:only-of-type {\n",
       "        vertical-align: middle;\n",
       "    }\n",
       "\n",
       "    .dataframe tbody tr th {\n",
       "        vertical-align: top;\n",
       "    }\n",
       "\n",
       "    .dataframe thead th {\n",
       "        text-align: right;\n",
       "    }\n",
       "</style>\n",
       "<table border=\"1\" class=\"dataframe\">\n",
       "  <thead>\n",
       "    <tr style=\"text-align: right;\">\n",
       "      <th></th>\n",
       "      <th>rating_count</th>\n",
       "    </tr>\n",
       "    <tr>\n",
       "      <th>keywords</th>\n",
       "      <th></th>\n",
       "    </tr>\n",
       "  </thead>\n",
       "  <tbody>\n",
       "    <tr>\n",
       "      <th>Electronics|Headphones,Earbuds&amp;Accessories|Headphones|In-Ear</th>\n",
       "      <td>4204939.0</td>\n",
       "    </tr>\n",
       "    <tr>\n",
       "      <th>Computers&amp;Accessories|Accessories&amp;Peripherals|Cables&amp;Accessories|Cables|USBCables</th>\n",
       "      <td>3547816.0</td>\n",
       "    </tr>\n",
       "    <tr>\n",
       "      <th>Electronics|Mobiles&amp;Accessories|Smartphones&amp;BasicMobiles|Smartphones</th>\n",
       "      <td>2493269.0</td>\n",
       "    </tr>\n",
       "    <tr>\n",
       "      <th>Electronics|HomeTheater,TV&amp;Video|Accessories|Cables|HDMICables</th>\n",
       "      <td>1906054.0</td>\n",
       "    </tr>\n",
       "    <tr>\n",
       "      <th>Electronics|WearableTechnology|SmartWatches</th>\n",
       "      <td>1644476.0</td>\n",
       "    </tr>\n",
       "  </tbody>\n",
       "</table>\n",
       "</div>"
      ],
      "text/plain": [
       "                                                    rating_count\n",
       "keywords                                                        \n",
       "Electronics|Headphones,Earbuds&Accessories|Head...     4204939.0\n",
       "Computers&Accessories|Accessories&Peripherals|C...     3547816.0\n",
       "Electronics|Mobiles&Accessories|Smartphones&Bas...     2493269.0\n",
       "Electronics|HomeTheater,TV&Video|Accessories|Ca...     1906054.0\n",
       "Electronics|WearableTechnology|SmartWatches            1644476.0"
      ]
     },
     "execution_count": 18,
     "metadata": {},
     "output_type": "execute_result"
    }
   ],
   "source": [
    "df.groupby(['keywords'])['rating_count'].sum().to_frame().sort_values(by= 'rating_count', ascending = False)[:5]"
   ]
  },
  {
   "cell_type": "markdown",
   "metadata": {},
   "source": [
    "__Top 5 popular product reviews__"
   ]
  },
  {
   "cell_type": "code",
   "execution_count": 19,
   "metadata": {
    "colab": {
     "base_uri": "https://localhost:8080/",
     "height": 241
    },
    "executionInfo": {
     "elapsed": 575,
     "status": "ok",
     "timestamp": 1711518078169,
     "user": {
      "displayName": "Jasvinder",
      "userId": "02665855792849817295"
     },
     "user_tz": -330
    },
    "id": "tLzKN1zNpNqD",
    "outputId": "b8593a9d-efaf-4c34-e69a-e363cb8f1c62"
   },
   "outputs": [
    {
     "data": {
      "text/html": [
       "<div>\n",
       "<style scoped>\n",
       "    .dataframe tbody tr th:only-of-type {\n",
       "        vertical-align: middle;\n",
       "    }\n",
       "\n",
       "    .dataframe tbody tr th {\n",
       "        vertical-align: top;\n",
       "    }\n",
       "\n",
       "    .dataframe thead th {\n",
       "        text-align: right;\n",
       "    }\n",
       "</style>\n",
       "<table border=\"1\" class=\"dataframe\">\n",
       "  <thead>\n",
       "    <tr style=\"text-align: right;\">\n",
       "      <th></th>\n",
       "      <th>count</th>\n",
       "    </tr>\n",
       "    <tr>\n",
       "      <th>review_title</th>\n",
       "      <th></th>\n",
       "    </tr>\n",
       "  </thead>\n",
       "  <tbody>\n",
       "    <tr>\n",
       "      <th>Worked on iPhone 7 and didn’t work on XR,Good one,Dull Physical Looks,Just Buy it,Go for it,About the product,Get charging cable at the price,Working well.</th>\n",
       "      <td>10</td>\n",
       "    </tr>\n",
       "    <tr>\n",
       "      <th>Satisfied,Charging is really fast,Value for money,Product review,Good quality,Good product,Good Product,As of now seems good</th>\n",
       "      <td>8</td>\n",
       "    </tr>\n",
       "    <tr>\n",
       "      <th>Phone, camera, heating - works for me, may not for all,Good Mobile,Good but not excellent under this budget,Worth the price at 9499,Ok type phone... but unable to make videocall within same service provider.,Phone review,Budget king,Battery backup is good</th>\n",
       "      <td>8</td>\n",
       "    </tr>\n",
       "    <tr>\n",
       "      <th>Good product,Good one,Nice,Really nice product,Very first time change,Good,Fine product but could be better,Very nice it's charging like jet</th>\n",
       "      <td>7</td>\n",
       "    </tr>\n",
       "    <tr>\n",
       "      <th>A Good Braided Cable for Your Type C Device,Good quality product from ambrane,Super cable,As,Good quality,Good product,its good,Good quality for the price but one issue with my unit</th>\n",
       "      <td>7</td>\n",
       "    </tr>\n",
       "  </tbody>\n",
       "</table>\n",
       "</div>"
      ],
      "text/plain": [
       "                                                    count\n",
       "review_title                                             \n",
       "Worked on iPhone 7 and didn’t work on XR,Good o...     10\n",
       "Satisfied,Charging is really fast,Value for mon...      8\n",
       "Phone, camera, heating - works for me, may not ...      8\n",
       "Good product,Good one,Nice,Really nice product,...      7\n",
       "A Good Braided Cable for Your Type C Device,Goo...      7"
      ]
     },
     "execution_count": 19,
     "metadata": {},
     "output_type": "execute_result"
    }
   ],
   "source": [
    "df['review_title'].value_counts().to_frame()[:5]"
   ]
  },
  {
   "cell_type": "markdown",
   "metadata": {},
   "source": [
    "__Correlation between discounted_price and rating__"
   ]
  },
  {
   "cell_type": "code",
   "execution_count": 20,
   "metadata": {
    "colab": {
     "base_uri": "https://localhost:8080/"
    },
    "executionInfo": {
     "elapsed": 424,
     "status": "ok",
     "timestamp": 1711518428135,
     "user": {
      "displayName": "Jasvinder",
      "userId": "02665855792849817295"
     },
     "user_tz": -330
    },
    "id": "ARQ5QRxlpNsk",
    "outputId": "e8d36c1d-dbbd-49b9-aed0-826214ad5b0a"
   },
   "outputs": [
    {
     "data": {
      "text/plain": [
       "0.11494691129701481"
      ]
     },
     "execution_count": 20,
     "metadata": {},
     "output_type": "execute_result"
    }
   ],
   "source": [
    "df['discounted_price'].corr(df['rating'])"
   ]
  },
  {
   "cell_type": "markdown",
   "metadata": {
    "id": "IAJOa5aidwc1"
   },
   "source": [
    "Discounted price and rating have a considerably week correlation, here we can say that if there will be any change in discounte_price there is approx 11% chance that there will be a positive change in rating too."
   ]
  },
  {
   "cell_type": "markdown",
   "metadata": {},
   "source": [
    "__Top 5 categories based on highest ratings__"
   ]
  },
  {
   "cell_type": "code",
   "execution_count": 21,
   "metadata": {
    "colab": {
     "base_uri": "https://localhost:8080/",
     "height": 238
    },
    "executionInfo": {
     "elapsed": 448,
     "status": "ok",
     "timestamp": 1719384192803,
     "user": {
      "displayName": "Jasvinder",
      "userId": "02665855792849817295"
     },
     "user_tz": -330
    },
    "id": "YYdoqM8xeMgT",
    "outputId": "2063d7a5-1cd1-4da8-dd7a-0f54469d97f0"
   },
   "outputs": [
    {
     "data": {
      "text/html": [
       "<div>\n",
       "<style scoped>\n",
       "    .dataframe tbody tr th:only-of-type {\n",
       "        vertical-align: middle;\n",
       "    }\n",
       "\n",
       "    .dataframe tbody tr th {\n",
       "        vertical-align: top;\n",
       "    }\n",
       "\n",
       "    .dataframe thead th {\n",
       "        text-align: right;\n",
       "    }\n",
       "</style>\n",
       "<table border=\"1\" class=\"dataframe\">\n",
       "  <thead>\n",
       "    <tr style=\"text-align: right;\">\n",
       "      <th></th>\n",
       "      <th>rating</th>\n",
       "    </tr>\n",
       "    <tr>\n",
       "      <th>category</th>\n",
       "      <th></th>\n",
       "    </tr>\n",
       "  </thead>\n",
       "  <tbody>\n",
       "    <tr>\n",
       "      <th>Computers&amp;Accessories</th>\n",
       "      <td>5.0</td>\n",
       "    </tr>\n",
       "    <tr>\n",
       "      <th>Home&amp;Kitchen</th>\n",
       "      <td>4.8</td>\n",
       "    </tr>\n",
       "    <tr>\n",
       "      <th>Electronics</th>\n",
       "      <td>4.7</td>\n",
       "    </tr>\n",
       "    <tr>\n",
       "      <th>HomeImprovement</th>\n",
       "      <td>4.5</td>\n",
       "    </tr>\n",
       "    <tr>\n",
       "      <th>OfficeProducts</th>\n",
       "      <td>4.5</td>\n",
       "    </tr>\n",
       "  </tbody>\n",
       "</table>\n",
       "</div>"
      ],
      "text/plain": [
       "                       rating\n",
       "category                     \n",
       "Computers&Accessories     5.0\n",
       "Home&Kitchen              4.8\n",
       "Electronics               4.7\n",
       "HomeImprovement           4.5\n",
       "OfficeProducts            4.5"
      ]
     },
     "execution_count": 21,
     "metadata": {},
     "output_type": "execute_result"
    }
   ],
   "source": [
    "df.groupby(['category'])['rating'].max().to_frame().sort_values(by = 'rating', ascending= False)[:5]"
   ]
  },
  {
   "cell_type": "markdown",
   "metadata": {},
   "source": [
    "Highest rated products are from Computer & Accessories category i.e. 5 rated followed by Home & Kitchen and Electronics"
   ]
  }
 ],
 "metadata": {
  "colab": {
   "authorship_tag": "ABX9TyMOsiSuBTngncSTV4s1hTuY",
   "provenance": []
  },
  "kernelspec": {
   "display_name": "Python 3 (ipykernel)",
   "language": "python",
   "name": "python3"
  },
  "language_info": {
   "codemirror_mode": {
    "name": "ipython",
    "version": 3
   },
   "file_extension": ".py",
   "mimetype": "text/x-python",
   "name": "python",
   "nbconvert_exporter": "python",
   "pygments_lexer": "ipython3",
   "version": "3.12.4"
  }
 },
 "nbformat": 4,
 "nbformat_minor": 4
}
